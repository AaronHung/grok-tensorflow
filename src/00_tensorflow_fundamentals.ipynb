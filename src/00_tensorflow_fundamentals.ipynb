{
 "cells": [
  {
   "cell_type": "markdown",
   "metadata": {},
   "source": [
    "### In this notebook, we'are going to cover some of the most fundamental concepts of tensors using TensorFlow\n",
    "\n",
    "#### More specifically, we're going to cover:\n",
    "* Introduction to tensors\n",
    "* Getting information from tensors\n",
    "* Manipulating tensors\n",
    "* Tensors & NumPy\n",
    "* Using @tf.function (a way to speed up your regular Python functions)\n",
    "* Using GPUs with TensorFlow (or TPUs)\n",
    "* Exercise to try for yourself"
   ]
  },
  {
   "cell_type": "markdown",
   "metadata": {},
   "source": [
    "### Introduction to Tensors"
   ]
  },
  {
   "cell_type": "code",
   "execution_count": 1,
   "metadata": {},
   "outputs": [
    {
     "name": "stdout",
     "output_type": "stream",
     "text": [
      "2.16.2\n"
     ]
    }
   ],
   "source": [
    "# Import TensorFlow\n",
    "import tensorflow as tf\n",
    "print(tf.__version__)"
   ]
  },
  {
   "cell_type": "code",
   "execution_count": 2,
   "metadata": {},
   "outputs": [
    {
     "name": "stderr",
     "output_type": "stream",
     "text": [
      "2025-03-24 12:21:16.743596: I metal_plugin/src/device/metal_device.cc:1154] Metal device set to: Apple M1 Pro\n",
      "2025-03-24 12:21:16.743770: I metal_plugin/src/device/metal_device.cc:296] systemMemory: 16.00 GB\n",
      "2025-03-24 12:21:16.743780: I metal_plugin/src/device/metal_device.cc:313] maxCacheSize: 5.33 GB\n",
      "2025-03-24 12:21:16.743995: I tensorflow/core/common_runtime/pluggable_device/pluggable_device_factory.cc:305] Could not identify NUMA node of platform GPU ID 0, defaulting to 0. Your kernel may not have been built with NUMA support.\n",
      "2025-03-24 12:21:16.744011: I tensorflow/core/common_runtime/pluggable_device/pluggable_device_factory.cc:271] Created TensorFlow device (/job:localhost/replica:0/task:0/device:GPU:0 with 0 MB memory) -> physical PluggableDevice (device: 0, name: METAL, pci bus id: <undefined>)\n"
     ]
    },
    {
     "data": {
      "text/plain": [
       "<tf.Tensor: shape=(), dtype=int32, numpy=7>"
      ]
     },
     "execution_count": 2,
     "metadata": {},
     "output_type": "execute_result"
    }
   ],
   "source": [
    "# Create tensors with tf.constant()\n",
    "scalar = tf.constant(7)\n",
    "scalar"
   ]
  },
  {
   "cell_type": "code",
   "execution_count": 4,
   "metadata": {},
   "outputs": [
    {
     "data": {
      "text/plain": [
       "0"
      ]
     },
     "execution_count": 4,
     "metadata": {},
     "output_type": "execute_result"
    }
   ],
   "source": [
    "# Check the number of dimensions of a tensor (`ndim` stands for number of dimensions)\n",
    "scalar.ndim"
   ]
  },
  {
   "cell_type": "code",
   "execution_count": 5,
   "metadata": {},
   "outputs": [
    {
     "data": {
      "text/plain": [
       "<tf.Tensor: shape=(2,), dtype=int32, numpy=array([10, 10], dtype=int32)>"
      ]
     },
     "execution_count": 5,
     "metadata": {},
     "output_type": "execute_result"
    }
   ],
   "source": [
    "# Create a vector\n",
    "vector = tf.constant([10, 10])\n",
    "vector"
   ]
  },
  {
   "cell_type": "code",
   "execution_count": 6,
   "metadata": {},
   "outputs": [
    {
     "name": "stdout",
     "output_type": "stream",
     "text": [
      "tf.Tensor([10 10], shape=(2,), dtype=int32)\n"
     ]
    }
   ],
   "source": [
    "print(vector)"
   ]
  },
  {
   "cell_type": "code",
   "execution_count": 7,
   "metadata": {},
   "outputs": [
    {
     "data": {
      "text/plain": [
       "1"
      ]
     },
     "execution_count": 7,
     "metadata": {},
     "output_type": "execute_result"
    }
   ],
   "source": [
    "# Check out the dimension of our vector\n",
    "vector.ndim"
   ]
  },
  {
   "cell_type": "code",
   "execution_count": 8,
   "metadata": {},
   "outputs": [
    {
     "data": {
      "text/plain": [
       "<tf.Tensor: shape=(2, 2), dtype=int32, numpy=\n",
       "array([[10,  7],\n",
       "       [ 7, 10]], dtype=int32)>"
      ]
     },
     "execution_count": 8,
     "metadata": {},
     "output_type": "execute_result"
    }
   ],
   "source": [
    "# Create a matrix (has more than 1 dimension)\n",
    "matrix = tf.constant([[10, 7], [7, 10]])\n",
    "matrix"
   ]
  },
  {
   "cell_type": "code",
   "execution_count": 9,
   "metadata": {},
   "outputs": [
    {
     "data": {
      "text/plain": [
       "2"
      ]
     },
     "execution_count": 9,
     "metadata": {},
     "output_type": "execute_result"
    }
   ],
   "source": [
    "matrix.ndim"
   ]
  },
  {
   "cell_type": "code",
   "execution_count": 10,
   "metadata": {},
   "outputs": [
    {
     "data": {
      "text/plain": [
       "<tf.Tensor: shape=(3, 3), dtype=float16, numpy=\n",
       "array([[1., 2., 3.],\n",
       "       [4., 5., 6.],\n",
       "       [7., 8., 9.]], dtype=float16)>"
      ]
     },
     "execution_count": 10,
     "metadata": {},
     "output_type": "execute_result"
    }
   ],
   "source": [
    "# Create another matrix\n",
    "another_matrix = tf.constant([[1., 2., 3.],\n",
    "    [4., 5., 6.],\n",
    "    [7., 8., 9.]], dtype=tf.float16)\n",
    "another_matrix"
   ]
  },
  {
   "cell_type": "code",
   "execution_count": 11,
   "metadata": {},
   "outputs": [
    {
     "data": {
      "text/plain": [
       "2"
      ]
     },
     "execution_count": 11,
     "metadata": {},
     "output_type": "execute_result"
    }
   ],
   "source": [
    "# What's the ndim of the another_matrix\n",
    "another_matrix.ndim"
   ]
  },
  {
   "cell_type": "code",
   "execution_count": 12,
   "metadata": {},
   "outputs": [
    {
     "data": {
      "text/plain": [
       "<tf.Tensor: shape=(3, 2, 3), dtype=int32, numpy=\n",
       "array([[[ 1,  2,  3],\n",
       "        [ 4,  5,  6]],\n",
       "\n",
       "       [[ 7,  8,  9],\n",
       "        [10, 11, 12]],\n",
       "\n",
       "       [[13, 14, 15],\n",
       "        [16, 17, 18]]], dtype=int32)>"
      ]
     },
     "execution_count": 12,
     "metadata": {},
     "output_type": "execute_result"
    }
   ],
   "source": [
    "# Let's create a tensor\n",
    "tensor = tf.constant([[[1, 2, 3],\n",
    "    [4, 5, 6]],\n",
    "    [[7, 8, 9],\n",
    "    [10, 11, 12]],\n",
    "    [[13, 14, 15],\n",
    "    [16, 17, 18]]])\n",
    "tensor"
   ]
  },
  {
   "cell_type": "code",
   "execution_count": 13,
   "metadata": {},
   "outputs": [
    {
     "data": {
      "text/plain": [
       "3"
      ]
     },
     "execution_count": 13,
     "metadata": {},
     "output_type": "execute_result"
    }
   ],
   "source": [
    "tensor.ndim"
   ]
  },
  {
   "cell_type": "markdown",
   "metadata": {},
   "source": [
    "### What we've created so far:\n",
    "\n",
    "* Scalar: a single number\n",
    "* Vector: a number with direction (e.g. wind speed and direction)\n",
    "* Matrix: a 2-dimensional array of numbers\n",
    "* Tensor: an n-dimensional array of numbers (when n can be any number, a 0-dimensional tensor is a scalar, a 1-dimensional tensor is a vector)"
   ]
  },
  {
   "cell_type": "markdown",
   "metadata": {},
   "source": [
    "---\n",
    "### Creating tensors with `tf.Variable`"
   ]
  },
  {
   "cell_type": "code",
   "execution_count": 14,
   "metadata": {},
   "outputs": [
    {
     "data": {
      "text/plain": [
       "tensorflow.python.ops.variables.Variable"
      ]
     },
     "execution_count": 14,
     "metadata": {},
     "output_type": "execute_result"
    }
   ],
   "source": [
    "tf.Variable"
   ]
  },
  {
   "cell_type": "code",
   "execution_count": 15,
   "metadata": {},
   "outputs": [
    {
     "data": {
      "text/plain": [
       "(<tf.Variable 'Variable:0' shape=(2,) dtype=int32, numpy=array([10,  7], dtype=int32)>,\n",
       " <tf.Tensor: shape=(2,), dtype=int32, numpy=array([10,  7], dtype=int32)>)"
      ]
     },
     "execution_count": 15,
     "metadata": {},
     "output_type": "execute_result"
    }
   ],
   "source": [
    "# Create the same tensor with tf.Variable() as above\n",
    "\n",
    "changeable_tensor = tf.Variable([10, 7])\n",
    "unchangeable_tensor = tf.constant([10, 7])\n",
    "changeable_tensor, unchangeable_tensor\n"
   ]
  },
  {
   "cell_type": "code",
   "execution_count": 16,
   "metadata": {},
   "outputs": [
    {
     "ename": "TypeError",
     "evalue": "'ResourceVariable' object does not support item assignment",
     "output_type": "error",
     "traceback": [
      "\u001b[31m---------------------------------------------------------------------------\u001b[39m",
      "\u001b[31mTypeError\u001b[39m                                 Traceback (most recent call last)",
      "\u001b[36mCell\u001b[39m\u001b[36m \u001b[39m\u001b[32mIn[16]\u001b[39m\u001b[32m, line 3\u001b[39m\n\u001b[32m      1\u001b[39m \u001b[38;5;66;03m# Let's try change one of the elements in our changeable tensor \u001b[39;00m\n\u001b[32m----> \u001b[39m\u001b[32m3\u001b[39m \u001b[43mchangeable_tensor\u001b[49m\u001b[43m[\u001b[49m\u001b[32;43m0\u001b[39;49m\u001b[43m]\u001b[49m = \u001b[32m7\u001b[39m\n\u001b[32m      4\u001b[39m changeable_tensor\n",
      "\u001b[31mTypeError\u001b[39m: 'ResourceVariable' object does not support item assignment"
     ]
    }
   ],
   "source": [
    "# Let's try change one of the elements in our changeable tensor \n",
    "\n",
    "changeable_tensor[0] = 7\n",
    "changeable_tensor"
   ]
  },
  {
   "cell_type": "markdown",
   "metadata": {},
   "source": [
    "This error happens because changeable_tensor is likely a TensorFlow tf.Variable, which does not support item assignment using standard Python syntax like changeable_tensor[0] = 7.\n",
    "\n",
    "✅ Aaron's Notes - Why it happens:\n",
    "tf.Variable is a mutable container for TensorFlow tensors, but you can't modify it in-place with normal indexing. Instead, TensorFlow provides specific methods to change its contents, such as `assign`, `assign_sub`, `assign_add`"
   ]
  },
  {
   "cell_type": "code",
   "execution_count": 17,
   "metadata": {},
   "outputs": [
    {
     "data": {
      "text/plain": [
       "<tf.Variable 'Variable:0' shape=(2,) dtype=int32, numpy=array([99,  7], dtype=int32)>"
      ]
     },
     "execution_count": 17,
     "metadata": {},
     "output_type": "execute_result"
    }
   ],
   "source": [
    "# How about we try .assign()\n",
    "\n",
    "changeable_tensor[0].assign(99)\n",
    "changeable_tensor\n"
   ]
  },
  {
   "cell_type": "code",
   "execution_count": 18,
   "metadata": {},
   "outputs": [
    {
     "ename": "TypeError",
     "evalue": "'tensorflow.python.framework.ops.EagerTensor' object does not support item assignment",
     "output_type": "error",
     "traceback": [
      "\u001b[31m---------------------------------------------------------------------------\u001b[39m",
      "\u001b[31mTypeError\u001b[39m                                 Traceback (most recent call last)",
      "\u001b[36mCell\u001b[39m\u001b[36m \u001b[39m\u001b[32mIn[18]\u001b[39m\u001b[32m, line 3\u001b[39m\n\u001b[32m      1\u001b[39m \u001b[38;5;66;03m# Let's try change our unchangeable tensor\u001b[39;00m\n\u001b[32m----> \u001b[39m\u001b[32m3\u001b[39m \u001b[43munchangeable_tensor\u001b[49m\u001b[43m[\u001b[49m\u001b[32;43m0\u001b[39;49m\u001b[43m]\u001b[49m = \u001b[32m7\u001b[39m\n\u001b[32m      4\u001b[39m unchangeable_tensor\n",
      "\u001b[31mTypeError\u001b[39m: 'tensorflow.python.framework.ops.EagerTensor' object does not support item assignment"
     ]
    }
   ],
   "source": [
    "# Let's try change our unchangeable tensor\n",
    "\n",
    "unchangeable_tensor[0] = 7\n",
    "unchangeable_tensor"
   ]
  },
  {
   "cell_type": "code",
   "execution_count": 19,
   "metadata": {},
   "outputs": [
    {
     "ename": "AttributeError",
     "evalue": "'tensorflow.python.framework.ops.EagerTensor' object has no attribute 'assign'",
     "output_type": "error",
     "traceback": [
      "\u001b[31m---------------------------------------------------------------------------\u001b[39m",
      "\u001b[31mAttributeError\u001b[39m                            Traceback (most recent call last)",
      "\u001b[36mCell\u001b[39m\u001b[36m \u001b[39m\u001b[32mIn[19]\u001b[39m\u001b[32m, line 3\u001b[39m\n\u001b[32m      1\u001b[39m \u001b[38;5;66;03m# Let's try `assign` to unchangeable constant\u001b[39;00m\n\u001b[32m----> \u001b[39m\u001b[32m3\u001b[39m \u001b[43munchangeable_tensor\u001b[49m\u001b[43m[\u001b[49m\u001b[32;43m0\u001b[39;49m\u001b[43m]\u001b[49m\u001b[43m.\u001b[49m\u001b[43massign\u001b[49m(\u001b[32m99\u001b[39m)\n\u001b[32m      4\u001b[39m unchangeable_tensor\n",
      "\u001b[36mFile \u001b[39m\u001b[32m~/venvs/tf-dev/lib/python3.11/site-packages/tensorflow/python/framework/tensor.py:260\u001b[39m, in \u001b[36mTensor.__getattr__\u001b[39m\u001b[34m(self, name)\u001b[39m\n\u001b[32m    252\u001b[39m \u001b[38;5;28;01mif\u001b[39;00m name \u001b[38;5;129;01min\u001b[39;00m {\u001b[33m\"\u001b[39m\u001b[33mT\u001b[39m\u001b[33m\"\u001b[39m, \u001b[33m\"\u001b[39m\u001b[33mastype\u001b[39m\u001b[33m\"\u001b[39m, \u001b[33m\"\u001b[39m\u001b[33mravel\u001b[39m\u001b[33m\"\u001b[39m, \u001b[33m\"\u001b[39m\u001b[33mtranspose\u001b[39m\u001b[33m\"\u001b[39m, \u001b[33m\"\u001b[39m\u001b[33mreshape\u001b[39m\u001b[33m\"\u001b[39m, \u001b[33m\"\u001b[39m\u001b[33mclip\u001b[39m\u001b[33m\"\u001b[39m, \u001b[33m\"\u001b[39m\u001b[33msize\u001b[39m\u001b[33m\"\u001b[39m,\n\u001b[32m    253\u001b[39m             \u001b[33m\"\u001b[39m\u001b[33mtolist\u001b[39m\u001b[33m\"\u001b[39m, \u001b[33m\"\u001b[39m\u001b[33mdata\u001b[39m\u001b[33m\"\u001b[39m}:\n\u001b[32m    254\u001b[39m   \u001b[38;5;66;03m# TODO(wangpeng): Export the enable_numpy_behavior knob\u001b[39;00m\n\u001b[32m    255\u001b[39m   \u001b[38;5;28;01mraise\u001b[39;00m \u001b[38;5;167;01mAttributeError\u001b[39;00m(\n\u001b[32m    256\u001b[39m       \u001b[33mf\u001b[39m\u001b[33m\"\u001b[39m\u001b[38;5;132;01m{\u001b[39;00m\u001b[38;5;28mtype\u001b[39m(\u001b[38;5;28mself\u001b[39m).\u001b[34m__name__\u001b[39m\u001b[38;5;132;01m}\u001b[39;00m\u001b[33m object has no attribute \u001b[39m\u001b[33m'\u001b[39m\u001b[38;5;132;01m{\u001b[39;00mname\u001b[38;5;132;01m}\u001b[39;00m\u001b[33m'\u001b[39m\u001b[33m. \u001b[39m\u001b[33m\"\u001b[39m + \u001b[33m\"\"\"\u001b[39m\n\u001b[32m    257\u001b[39m \u001b[33m    If you are looking for numpy-related methods, please run the following:\u001b[39m\n\u001b[32m    258\u001b[39m \u001b[33m    tf.experimental.numpy.experimental_enable_numpy_behavior()\u001b[39m\n\u001b[32m    259\u001b[39m \u001b[33m  \u001b[39m\u001b[33m\"\"\"\u001b[39m)\n\u001b[32m--> \u001b[39m\u001b[32m260\u001b[39m \u001b[38;5;28;43mself\u001b[39;49m\u001b[43m.\u001b[49m\u001b[34;43m__getattribute__\u001b[39;49m\u001b[43m(\u001b[49m\u001b[43mname\u001b[49m\u001b[43m)\u001b[49m\n",
      "\u001b[31mAttributeError\u001b[39m: 'tensorflow.python.framework.ops.EagerTensor' object has no attribute 'assign'"
     ]
    }
   ],
   "source": [
    "# Let's try `assign` to unchangeable constant\n",
    "\n",
    "unchangeable_tensor[0].assign(99)\n",
    "unchangeable_tensor"
   ]
  },
  {
   "cell_type": "markdown",
   "metadata": {},
   "source": [
    "#### 🔑 Rarely in practice will you need to decide whether to use `tf.constant` or `tf.Variable` to create tensors, as TensorFlow does this for you. However, if in doubt, use `tf.constant` and change it later if needed."
   ]
  },
  {
   "cell_type": "markdown",
   "metadata": {},
   "source": [
    "### Creating random tensors"
   ]
  },
  {
   "cell_type": "markdown",
   "metadata": {},
   "source": [
    "#### Random tensors are tensors of some abitrary size which contain random numbers"
   ]
  },
  {
   "cell_type": "code",
   "execution_count": 23,
   "metadata": {},
   "outputs": [
    {
     "data": {
      "text/plain": [
       "(<tf.Tensor: shape=(3, 2), dtype=float32, numpy=\n",
       " array([[-0.75658023, -0.06854693],\n",
       "        [ 0.07595028, -1.2573844 ],\n",
       "        [-0.23193759, -1.8107857 ]], dtype=float32)>,\n",
       " <tf.Tensor: shape=(3, 2), dtype=float32, numpy=\n",
       " array([[-0.75658023, -0.06854693],\n",
       "        [ 0.07595028, -1.2573844 ],\n",
       "        [-0.23193759, -1.8107857 ]], dtype=float32)>,\n",
       " <tf.Tensor: shape=(3, 2), dtype=bool, numpy=\n",
       " array([[ True,  True],\n",
       "        [ True,  True],\n",
       "        [ True,  True]])>)"
      ]
     },
     "execution_count": 23,
     "metadata": {},
     "output_type": "execute_result"
    }
   ],
   "source": [
    "# Create two random (but the same) tensors\n",
    "\n",
    "random_1 = tf.random.Generator.from_seed(42) # set seed for reproducibility\n",
    "random_1 = random_1.normal(shape=(3, 2))\n",
    "random_2 = tf.random.Generator.from_seed(42)\n",
    "random_2 = random_2.normal(shape=(3, 2))\n",
    "\n",
    "# Are they equal?\n",
    "random_1, random_2, random_1 == random_2"
   ]
  },
  {
   "cell_type": "code",
   "execution_count": 26,
   "metadata": {},
   "outputs": [
    {
     "data": {
      "text/plain": [
       "<tf.Tensor: shape=(3, 2), dtype=bool, numpy=\n",
       "array([[ True,  True],\n",
       "       [ True,  True],\n",
       "       [ True,  True]])>"
      ]
     },
     "execution_count": 26,
     "metadata": {},
     "output_type": "execute_result"
    }
   ],
   "source": [
    "random_1 == random_2"
   ]
  },
  {
   "cell_type": "markdown",
   "metadata": {},
   "source": [
    "### Shuffle the order of elements in a tensor"
   ]
  },
  {
   "cell_type": "code",
   "execution_count": 33,
   "metadata": {},
   "outputs": [
    {
     "data": {
      "text/plain": [
       "<tf.Tensor: shape=(3, 2), dtype=int32, numpy=\n",
       "array([[ 3,  4],\n",
       "       [10,  7],\n",
       "       [ 2,  5]], dtype=int32)>"
      ]
     },
     "execution_count": 33,
     "metadata": {},
     "output_type": "execute_result"
    }
   ],
   "source": [
    "# Shuffle a tensor (valueable for when you want to shuffle your data so the inherent order doesn't effect learning)\n",
    "\n",
    "not_shuffled = tf.constant([[10, 7],\n",
    "                           [3, 4],\n",
    "                           [2, 5]])\n",
    "                        \n",
    "tf.random.shuffle(not_shuffled)"
   ]
  },
  {
   "cell_type": "code",
   "execution_count": 38,
   "metadata": {},
   "outputs": [
    {
     "data": {
      "text/plain": [
       "<tf.Tensor: shape=(3, 2), dtype=int32, numpy=\n",
       "array([[ 3,  4],\n",
       "       [10,  7],\n",
       "       [ 2,  5]], dtype=int32)>"
      ]
     },
     "execution_count": 38,
     "metadata": {},
     "output_type": "execute_result"
    }
   ],
   "source": [
    "# Shuffle our non-shuffled tensor\n",
    "tf.random.shuffle(not_shuffled, seed=42)"
   ]
  },
  {
   "cell_type": "code",
   "execution_count": 39,
   "metadata": {},
   "outputs": [
    {
     "data": {
      "text/plain": [
       "<tf.Tensor: shape=(3, 2), dtype=int32, numpy=\n",
       "array([[10,  7],\n",
       "       [ 3,  4],\n",
       "       [ 2,  5]], dtype=int32)>"
      ]
     },
     "execution_count": 39,
     "metadata": {},
     "output_type": "execute_result"
    }
   ],
   "source": [
    "# Shuffle our non-shuffled tensor\n",
    "tf.random.set_seed(42)\n",
    "tf.random.shuffle(not_shuffled, seed=42)"
   ]
  },
  {
   "cell_type": "markdown",
   "metadata": {},
   "source": [
    "### 🛠️ **Exercise:** \n",
    "1. Read through TensorFlow documentation on [random seed generation](https://www.tensorflow.org/api_docs/python/tf/random/set_seed)\n",
    "2. And, practice writing 5 random tensors and shufffle them."
   ]
  },
  {
   "cell_type": "code",
   "execution_count": null,
   "metadata": {},
   "outputs": [
    {
     "name": "stdout",
     "output_type": "stream",
     "text": [
      "before shuffling: ------------------------------\n",
      "tf.Tensor(\n",
      "[[0.6645621  0.44100678]\n",
      " [0.3528825  0.46448255]\n",
      " [0.03366041 0.68467236]], shape=(3, 2), dtype=float32) tf.Tensor(\n",
      "[[0.68789124 0.48447883]\n",
      " [0.9309944  0.252187  ]\n",
      " [0.73115396 0.89256823]], shape=(3, 2), dtype=float32)\n",
      "\n",
      "after shuffling: ------------------------------\n",
      "tf.Tensor(\n",
      "[[0.03366041 0.68467236]\n",
      " [0.3528825  0.46448255]\n",
      " [0.6645621  0.44100678]], shape=(3, 2), dtype=float32)\n",
      "tf.Tensor(\n",
      "[[0.73115396 0.89256823]\n",
      " [0.9309944  0.252187  ]\n",
      " [0.68789124 0.48447883]], shape=(3, 2), dtype=float32)\n"
     ]
    }
   ],
   "source": [
    "# Ex1: random tensors and shuffled (this is eager mode)\n",
    "tf.random.set_seed(42)\n",
    "\n",
    "print(\"before shuffling:\", 30*\"-\")\n",
    "r1 = tf.random.uniform([3, 2])\n",
    "r2 = tf.random.uniform([3, 2])\n",
    "print(r1, r2)\n",
    "\n",
    "print(\"\\nafter shuffling:\", 30*\"-\")\n",
    "print(tf.random.shuffle(r1))\n",
    "print(tf.random.shuffle(r2))"
   ]
  },
  {
   "cell_type": "code",
   "execution_count": null,
   "metadata": {},
   "outputs": [
    {
     "name": "stdout",
     "output_type": "stream",
     "text": [
      "before shuffling: ------------------------------\n",
      "Tensor(\"random_uniform/RandomUniform:0\", shape=(3, 2), dtype=float32) Tensor(\"random_uniform_1/RandomUniform:0\", shape=(3, 2), dtype=float32)\n",
      "\n",
      "after shuffling: ------------------------------\n",
      "Tensor(\"RandomShuffle:0\", shape=(3, 2), dtype=float32)\n",
      "Tensor(\"RandomShuffle_1:0\", shape=(3, 2), dtype=float32)\n"
     ]
    },
    {
     "name": "stderr",
     "output_type": "stream",
     "text": [
      "2025-03-24 15:12:14.985377: I tensorflow/core/grappler/optimizers/custom_graph_optimizer_registry.cc:117] Plugin optimizer for device_type GPU is enabled.\n"
     ]
    }
   ],
   "source": [
    "# Ex2 - shuffle with decorators! (This is graph mode)\n",
    "\n",
    "tf.random.set_seed(1234)\n",
    "\n",
    "@tf.function\n",
    "def shuffle_test():\n",
    "    print(\"before shuffling:\", 30*\"-\")\n",
    "    r1 = tf.random.uniform([3, 2])\n",
    "    r2 = tf.random.uniform([3, 2])\n",
    "    print(r1, r2)\n",
    "    print(\"\\nafter shuffling:\", 30*\"-\")\n",
    "    print(tf.random.shuffle(r1))\n",
    "    print(tf.random.shuffle(r2))\n",
    "\n",
    "shuffle_test()"
   ]
  },
  {
   "cell_type": "code",
   "execution_count": 56,
   "metadata": {},
   "outputs": [
    {
     "name": "stdout",
     "output_type": "stream",
     "text": [
      "Before shuffling: ====================\n",
      "Tensor 0: \n",
      "[[0.6645621  0.44100678]\n",
      " [0.3528825  0.46448255]] \n",
      "\n",
      "Tensor 1: \n",
      "[[0.68789124 0.48447883]\n",
      " [0.9309944  0.252187  ]] \n",
      "\n",
      "Tensor 2: \n",
      "[[0.7413678  0.62854624]\n",
      " [0.01738465 0.3431449 ]] \n",
      "\n",
      "After shuffling: ====================\n",
      "Tensor 0: \n",
      "[[0.7413678  0.62854624]\n",
      " [0.01738465 0.3431449 ]] \n",
      "\n",
      "Tensor 1: \n",
      "[[0.68789124 0.48447883]\n",
      " [0.9309944  0.252187  ]] \n",
      "\n",
      "Tensor 2: \n",
      "[[0.6645621  0.44100678]\n",
      " [0.3528825  0.46448255]] \n",
      "\n"
     ]
    }
   ],
   "source": [
    "# Ex3 - Eager Mode Example:\n",
    "\n",
    "import tensorflow as tf\n",
    "\n",
    "# Set seed for reproducibility\n",
    "tf.random.set_seed(42)\n",
    "\n",
    "# Create 5 random tensors and put them into a list\n",
    "tensors = [tf.random.uniform([2, 2]) for _ in range(3)]\n",
    "\n",
    "print(\"Before shuffling:\", 20*\"=\")\n",
    "for i, t in enumerate(tensors):\n",
    "    print(f\"Tensor {i}: \\n{t} \\n\")\n",
    "    \n",
    "# Stack them into a single tensor so we can shuffle them\n",
    "stacked = tf.stack(tensors)  # shape = (5, 2, 2)\n",
    "shuffled = tf.random.shuffle(stacked)\n",
    "\n",
    "print(\"After shuffling:\", 20*\"=\")\n",
    "for i, t in enumerate(shuffled):\n",
    "    print(f\"Tensor {i}: \\n{t} \\n\")"
   ]
  },
  {
   "cell_type": "markdown",
   "metadata": {},
   "source": [
    "### The above exercise, the **shuffle only happens across the first dimension,**, i.e., **between Tensor 0, 1, and 2**  -- not insdie each individual 2x2 tensor.\n",
    "\n",
    "Let's say we have:\n",
    "```python\n",
    "tensors = [A, B, C]  # where each is a 2×2 tensor\n",
    "stacked = tf.stack(tensors)  # shape = [3, 2, 2]\n",
    "```\n",
    "\n",
    "This give us a 3D tensor like:\n",
    "```lua\n",
    "[\n",
    "  [[a1, a2],\n",
    "   [a3, a4]],   # Tensor 0\n",
    "\n",
    "  [[b1, b2],\n",
    "   [b3, b4]],   # Tensor 1\n",
    "\n",
    "  [[c1, c2],\n",
    "   [c3, c4]]    # Tensor 2\n",
    "]\n",
    "```\n",
    "When we call:\n",
    "`tf.random.shuffle(stacked)`\n",
    "\n",
    "We only are shuffling **the outer dimension** (axis 0), i.e., we're just changing the order of Tensor 0, Tensor 1, Tensor 2. as below:\n",
    "\n",
    "```lua\n",
    "→\n",
    "[\n",
    "  [[c1, c2],\n",
    "   [c3, c4]],   # Was Tensor 2\n",
    "\n",
    "  [[a1, a2],\n",
    "   [a3, a4]],   # Was Tensor 0\n",
    "\n",
    "  [[b1, b2],\n",
    "   [b3, b4]]    # Was Tensor 1\n",
    "]\n",
    "```"
   ]
  },
  {
   "cell_type": "markdown",
   "metadata": {},
   "source": [
    "### ✅ **What if we want to shuffle inside** each tensor?"
   ]
  },
  {
   "cell_type": "code",
   "execution_count": 59,
   "metadata": {},
   "outputs": [
    {
     "name": "stdout",
     "output_type": "stream",
     "text": [
      "Before shuffling INSIDE TENSOR: ====================\n",
      "Tensor 0: \n",
      "[[0.6645621  0.44100678]\n",
      " [0.3528825  0.46448255]] \n",
      "\n",
      "Tensor 1: \n",
      "[[0.68789124 0.48447883]\n",
      " [0.9309944  0.252187  ]] \n",
      "\n",
      "Tensor 2: \n",
      "[[0.7413678  0.62854624]\n",
      " [0.01738465 0.3431449 ]] \n",
      "\n",
      "After shuffling INSDIE TENSOR: ====================\n",
      "Tensor 0: \n",
      "[[0.3528825  0.46448255]\n",
      " [0.6645621  0.44100678]] \n",
      "\n",
      "Tensor 1: \n",
      "[[0.68789124 0.48447883]\n",
      " [0.9309944  0.252187  ]] \n",
      "\n",
      "Tensor 2: \n",
      "[[0.01738465 0.3431449 ]\n",
      " [0.7413678  0.62854624]] \n",
      "\n"
     ]
    }
   ],
   "source": [
    "# shuffle inside\n",
    "\n",
    "print(\"Before shuffling INSIDE TENSOR:\", 20*\"=\")\n",
    "for i, t in enumerate(tensors):\n",
    "    print(f\"Tensor {i}: \\n{t} \\n\")\n",
    "\n",
    "shuffled_inside = [tf.random.shuffle(t) for t in tensors]\n",
    "\n",
    "print(\"After shuffling INSDIE TENSOR:\", 20*\"=\")\n",
    "for i, t in enumerate(shuffled_inside):\n",
    "    print(f\"Tensor {i}: \\n{t} \\n\")"
   ]
  },
  {
   "cell_type": "code",
   "execution_count": 60,
   "metadata": {},
   "outputs": [
    {
     "data": {
      "text/plain": [
       "<tf.Tensor: shape=(3, 2), dtype=int32, numpy=\n",
       "array([[10,  7],\n",
       "       [ 3,  4],\n",
       "       [ 2,  5]], dtype=int32)>"
      ]
     },
     "execution_count": 60,
     "metadata": {},
     "output_type": "execute_result"
    }
   ],
   "source": [
    "tf.random.shuffle(not_shuffled, seed=42)\n"
   ]
  },
  {
   "cell_type": "code",
   "execution_count": 61,
   "metadata": {},
   "outputs": [
    {
     "data": {
      "text/plain": [
       "<tf.Tensor: shape=(3, 2), dtype=int32, numpy=\n",
       "array([[ 2,  5],\n",
       "       [10,  7],\n",
       "       [ 3,  4]], dtype=int32)>"
      ]
     },
     "execution_count": 61,
     "metadata": {},
     "output_type": "execute_result"
    }
   ],
   "source": [
    "tf.random.shuffle(not_shuffled, seed=42)"
   ]
  },
  {
   "cell_type": "markdown",
   "metadata": {},
   "source": [
    "### if set global seed\n",
    "#### If both the global and the operation seed are set: \n",
    "> - Both seeds are used in conjunction to determine the random sequence"
   ]
  },
  {
   "cell_type": "markdown",
   "metadata": {},
   "source": [
    "### The above setting - **Both global and op-level seed are set** has the following behavior:\n",
    "\n",
    "> #### - this is the `most stable` and `deterministi` setup\n",
    "> #### - Combines both seeds deterministic to generate the result\n",
    "> #### - We'll get `the same output` every time, even accross many random ops, and more robust to TensorFlow version changes!"
   ]
  },
  {
   "cell_type": "code",
   "execution_count": 63,
   "metadata": {},
   "outputs": [
    {
     "data": {
      "text/plain": [
       "<tf.Tensor: shape=(3, 2), dtype=int32, numpy=\n",
       "array([[10,  7],\n",
       "       [ 3,  4],\n",
       "       [ 2,  5]], dtype=int32)>"
      ]
     },
     "execution_count": 63,
     "metadata": {},
     "output_type": "execute_result"
    }
   ],
   "source": [
    "tf.random.set_seed(42)  # global level random seed\n",
    "tf.random.shuffle(not_shuffled, seed=42)  # operation level random seed"
   ]
  },
  {
   "cell_type": "code",
   "execution_count": 64,
   "metadata": {},
   "outputs": [
    {
     "data": {
      "text/plain": [
       "<tf.Tensor: shape=(3, 2), dtype=int32, numpy=\n",
       "array([[10,  7],\n",
       "       [ 3,  4],\n",
       "       [ 2,  5]], dtype=int32)>"
      ]
     },
     "execution_count": 64,
     "metadata": {},
     "output_type": "execute_result"
    }
   ],
   "source": [
    "tf.random.set_seed(42)  # global level random seed\n",
    "tf.random.shuffle(not_shuffled, seed=42)  # operation level random seed"
   ]
  },
  {
   "cell_type": "code",
   "execution_count": 65,
   "metadata": {},
   "outputs": [
    {
     "data": {
      "text/plain": [
       "<tf.Tensor: shape=(3, 2), dtype=int32, numpy=\n",
       "array([[10,  7],\n",
       "       [ 3,  4],\n",
       "       [ 2,  5]], dtype=int32)>"
      ]
     },
     "execution_count": 65,
     "metadata": {},
     "output_type": "execute_result"
    }
   ],
   "source": [
    "tf.random.set_seed(42)  # global level random seed\n",
    "tf.random.shuffle(not_shuffled, seed=42)  # operation level random seed"
   ]
  },
  {
   "cell_type": "markdown",
   "metadata": {},
   "source": [
    "### ⬆️ same result each time"
   ]
  },
  {
   "cell_type": "markdown",
   "metadata": {},
   "source": [
    "#### It looks like if we want our shuffled tensors to be in the same order, we've got6 to use the global level random seed as the operation level random seed:\n",
    "\n",
    "> **Rule 4**: if both the global and the op-seed are set: Both seeds are used in conjunmtion to determine the random sequence."
   ]
  },
  {
   "cell_type": "markdown",
   "metadata": {},
   "source": [
    "### Other ways to make tensors"
   ]
  },
  {
   "cell_type": "code",
   "execution_count": 67,
   "metadata": {},
   "outputs": [
    {
     "data": {
      "text/plain": [
       "<tf.Tensor: shape=(10, 7), dtype=float32, numpy=\n",
       "array([[1., 1., 1., 1., 1., 1., 1.],\n",
       "       [1., 1., 1., 1., 1., 1., 1.],\n",
       "       [1., 1., 1., 1., 1., 1., 1.],\n",
       "       [1., 1., 1., 1., 1., 1., 1.],\n",
       "       [1., 1., 1., 1., 1., 1., 1.],\n",
       "       [1., 1., 1., 1., 1., 1., 1.],\n",
       "       [1., 1., 1., 1., 1., 1., 1.],\n",
       "       [1., 1., 1., 1., 1., 1., 1.],\n",
       "       [1., 1., 1., 1., 1., 1., 1.],\n",
       "       [1., 1., 1., 1., 1., 1., 1.]], dtype=float32)>"
      ]
     },
     "execution_count": 67,
     "metadata": {},
     "output_type": "execute_result"
    }
   ],
   "source": [
    "# Create a tensor of all ones\n",
    "tf.ones([10, 7])"
   ]
  },
  {
   "cell_type": "code",
   "execution_count": 68,
   "metadata": {},
   "outputs": [
    {
     "data": {
      "text/plain": [
       "<tf.Tensor: shape=(3, 4), dtype=float32, numpy=\n",
       "array([[0., 0., 0., 0.],\n",
       "       [0., 0., 0., 0.],\n",
       "       [0., 0., 0., 0.]], dtype=float32)>"
      ]
     },
     "execution_count": 68,
     "metadata": {},
     "output_type": "execute_result"
    }
   ],
   "source": [
    "# Create a tensor of all zeros\n",
    "tf.zeros(shape=(3, 4))"
   ]
  },
  {
   "cell_type": "markdown",
   "metadata": {},
   "source": [
    "### Turn Numpy arrays into tensors\n",
    "\n",
    "#### The mian difference between Numpy arrays and TensorFlow tensors is that tensors can be run on a GPU (much faster for numerical computing)"
   ]
  },
  {
   "cell_type": "code",
   "execution_count": 70,
   "metadata": {},
   "outputs": [
    {
     "data": {
      "text/plain": [
       "array([ 1,  2,  3,  4,  5,  6,  7,  8,  9, 10, 11, 12, 13, 14, 15, 16, 17,\n",
       "       18, 19, 20, 21, 22, 23, 24], dtype=int32)"
      ]
     },
     "execution_count": 70,
     "metadata": {},
     "output_type": "execute_result"
    }
   ],
   "source": [
    "# We can also turn NumPy arrays into tensors\n",
    "\n",
    "import numpy as np\n",
    "numpy_A = np.arange(1, 25, dtype=np.int32)  # create a NumPy array between 1 and 25\n",
    "numpy_A\n",
    "\n",
    "# X = tf.constant(some_matrix) # cpaital for matrix or tensor\n",
    "# y = tf.constant(vector)  # non-cap0ital for vector"
   ]
  },
  {
   "cell_type": "code",
   "execution_count": 71,
   "metadata": {},
   "outputs": [
    {
     "data": {
      "text/plain": [
       "<tf.Tensor: shape=(24,), dtype=int32, numpy=\n",
       "array([ 1,  2,  3,  4,  5,  6,  7,  8,  9, 10, 11, 12, 13, 14, 15, 16, 17,\n",
       "       18, 19, 20, 21, 22, 23, 24], dtype=int32)>"
      ]
     },
     "execution_count": 71,
     "metadata": {},
     "output_type": "execute_result"
    }
   ],
   "source": [
    "A = tf.constant(numpy_A)\n",
    "A"
   ]
  },
  {
   "cell_type": "markdown",
   "metadata": {},
   "source": [
    "### 🔍 So What's the Difference?\n",
    "\n",
    "| Feature                     | `tf.constant()`                 | `tf.convert_to_tensor()`        |\n",
    "|----------------------------|----------------------------------|----------------------------------|\n",
    "| Creates a constant tensor  | ✅ Yes                           | ✅ Yes                            |\n",
    "| Accepts NumPy, list, etc.  | ✅ Yes                           | ✅ Yes                            |\n",
    "| Optimized for constants    | ✅                                | ❌ (more general)                |\n",
    "| Used internally in APIs    | ❌                                | ✅                                |\n",
    "| Can handle already-tensors | ❌ Will re-wrap it               | ✅ Returns as-is if already tensor |\n",
    "\n",
    "---\n",
    "\n",
    "## ✅ TL;DR – When to use which?\n",
    "\n",
    "| Use Case                              | Recommended |\n",
    "|---------------------------------------|-------------|\n",
    "| You want a fixed tensor (won’t change) | `tf.constant()` |\n",
    "| Writing flexible, general code         | `tf.convert_to_tensor()` |"
   ]
  },
  {
   "cell_type": "code",
   "execution_count": 74,
   "metadata": {},
   "outputs": [
    {
     "data": {
      "text/plain": [
       "(<tf.Tensor: shape=(2, 3, 4), dtype=int32, numpy=\n",
       " array([[[ 1,  2,  3,  4],\n",
       "         [ 5,  6,  7,  8],\n",
       "         [ 9, 10, 11, 12]],\n",
       " \n",
       "        [[13, 14, 15, 16],\n",
       "         [17, 18, 19, 20],\n",
       "         [21, 22, 23, 24]]], dtype=int32)>,\n",
       " <tf.Tensor: shape=(4, 6), dtype=int32, numpy=\n",
       " array([[ 1,  2,  3,  4,  5,  6],\n",
       "        [ 7,  8,  9, 10, 11, 12],\n",
       "        [13, 14, 15, 16, 17, 18],\n",
       "        [19, 20, 21, 22, 23, 24]], dtype=int32)>,\n",
       " <tf.Tensor: shape=(24,), dtype=int32, numpy=\n",
       " array([ 1,  2,  3,  4,  5,  6,  7,  8,  9, 10, 11, 12, 13, 14, 15, 16, 17,\n",
       "        18, 19, 20, 21, 22, 23, 24], dtype=int32)>)"
      ]
     },
     "execution_count": 74,
     "metadata": {},
     "output_type": "execute_result"
    }
   ],
   "source": [
    "A = tf.constant(numpy_A, shape=(2, 3, 4))\n",
    "B = tf.constant(numpy_A, shape=(4, 6))\n",
    "C = tf.constant(numpy_A)\n",
    "A, B, C"
   ]
  },
  {
   "cell_type": "markdown",
   "metadata": {},
   "source": [
    "--- \n",
    "### **Getting information from tensors**\n",
    "\n",
    "#### When dealing with tensors we probably want to be aware of the following attributes:\n",
    "\n",
    "| **Attribute** | **Meaning** | **Code** |\n",
    "|---|---|---|\n",
    "| **Shape** |  The length (number of elements) of each of the dimensions of a tensor. | `tensor.shape` |\n",
    "| **Rank** | The number of tensor dimensions. A scalar has rank 0, a vector has rank 1, a matrix is rank 2, a tensor has rank n. | `tensor.ndim` |\n",
    "| **Axis or dimension** | A particular dimension of a tensor. | `tensor[0], tensor[:, 1]...` |\n",
    "| **Size** | The total number of items in the tensor. | `tf.size(tensor)` |"
   ]
  },
  {
   "cell_type": "code",
   "execution_count": 76,
   "metadata": {},
   "outputs": [
    {
     "data": {
      "text/plain": [
       "<tf.Tensor: shape=(2, 3, 4, 5), dtype=float32, numpy=\n",
       "array([[[[0., 0., 0., 0., 0.],\n",
       "         [0., 0., 0., 0., 0.],\n",
       "         [0., 0., 0., 0., 0.],\n",
       "         [0., 0., 0., 0., 0.]],\n",
       "\n",
       "        [[0., 0., 0., 0., 0.],\n",
       "         [0., 0., 0., 0., 0.],\n",
       "         [0., 0., 0., 0., 0.],\n",
       "         [0., 0., 0., 0., 0.]],\n",
       "\n",
       "        [[0., 0., 0., 0., 0.],\n",
       "         [0., 0., 0., 0., 0.],\n",
       "         [0., 0., 0., 0., 0.],\n",
       "         [0., 0., 0., 0., 0.]]],\n",
       "\n",
       "\n",
       "       [[[0., 0., 0., 0., 0.],\n",
       "         [0., 0., 0., 0., 0.],\n",
       "         [0., 0., 0., 0., 0.],\n",
       "         [0., 0., 0., 0., 0.]],\n",
       "\n",
       "        [[0., 0., 0., 0., 0.],\n",
       "         [0., 0., 0., 0., 0.],\n",
       "         [0., 0., 0., 0., 0.],\n",
       "         [0., 0., 0., 0., 0.]],\n",
       "\n",
       "        [[0., 0., 0., 0., 0.],\n",
       "         [0., 0., 0., 0., 0.],\n",
       "         [0., 0., 0., 0., 0.],\n",
       "         [0., 0., 0., 0., 0.]]]], dtype=float32)>"
      ]
     },
     "execution_count": 76,
     "metadata": {},
     "output_type": "execute_result"
    }
   ],
   "source": [
    "# Create a rank 4 tensor (4 dimensions)\\\n",
    "rank_4_tensor = tf.zeros(shape=[2, 3, 4, 5])\n",
    "rank_4_tensor"
   ]
  },
  {
   "cell_type": "code",
   "execution_count": 77,
   "metadata": {},
   "outputs": [
    {
     "data": {
      "text/plain": [
       "<tf.Tensor: shape=(3, 4, 5), dtype=float32, numpy=\n",
       "array([[[0., 0., 0., 0., 0.],\n",
       "        [0., 0., 0., 0., 0.],\n",
       "        [0., 0., 0., 0., 0.],\n",
       "        [0., 0., 0., 0., 0.]],\n",
       "\n",
       "       [[0., 0., 0., 0., 0.],\n",
       "        [0., 0., 0., 0., 0.],\n",
       "        [0., 0., 0., 0., 0.],\n",
       "        [0., 0., 0., 0., 0.]],\n",
       "\n",
       "       [[0., 0., 0., 0., 0.],\n",
       "        [0., 0., 0., 0., 0.],\n",
       "        [0., 0., 0., 0., 0.],\n",
       "        [0., 0., 0., 0., 0.]]], dtype=float32)>"
      ]
     },
     "execution_count": 77,
     "metadata": {},
     "output_type": "execute_result"
    }
   ],
   "source": [
    "rank_4_tensor[0]"
   ]
  },
  {
   "cell_type": "code",
   "execution_count": 84,
   "metadata": {},
   "outputs": [
    {
     "name": "stdout",
     "output_type": "stream",
     "text": [
      "(2, 3, 4, 5) \n",
      " 4 \n",
      " tf.Tensor(120, shape=(), dtype=int32)\n"
     ]
    }
   ],
   "source": [
    "print(\n",
    "    rank_4_tensor.shape, '\\n',\n",
    "    rank_4_tensor.ndim, '\\n',\n",
    "    tf.size(rank_4_tensor))"
   ]
  },
  {
   "cell_type": "code",
   "execution_count": null,
   "metadata": {},
   "outputs": [
    {
     "name": "stdout",
     "output_type": "stream",
     "text": [
      "Datatype of every element: <dtype: 'float32'>\n",
      "Number of dimensions (rank):  4\n",
      "Shape of a tensor:  (2, 3, 4, 5)\n",
      "Elements along the 0 axis:  (3, 4, 5)\n"
     ]
    }
   ],
   "source": [
    "# Get various attributes of our tensor\n",
    "print(\"Datatype of every element:\", rank_4_tensor.dtype)\n",
    "print(\"Number of dimensions (rank): \", rank_4_tensor.ndim)\n",
    "print(\"Shape of a tensor: \", rank_4_tensor.shape)\n",
    "# print(\"Elements along the 0 axis: \", rank_4_tensor[0].shape)  # wrong"
   ]
  },
  {
   "cell_type": "code",
   "execution_count": 87,
   "metadata": {},
   "outputs": [
    {
     "name": "stdout",
     "output_type": "stream",
     "text": [
      "Datatype of every element: <dtype: 'float32'>\n",
      "Number of dimensions (rank):  4\n",
      "Shape of a tensor:  (2, 3, 4, 5)\n",
      "Elements along the 0 axis: 2\n",
      "Elements along the last axis:  5\n",
      "Total number of elements in our tensor:  tf.Tensor(120, shape=(), dtype=int32)\n"
     ]
    }
   ],
   "source": [
    "# Get various attributes of our tensor\n",
    "print(\"Datatype of every element:\", rank_4_tensor.dtype)\n",
    "print(\"Number of dimensions (rank): \", rank_4_tensor.ndim)\n",
    "print(\"Shape of a tensor: \", rank_4_tensor.shape)\n",
    "# print(\"Elements along the 0 axis: \", rank_4_tensor[0].shape)  # wrong\n",
    "print(\"Elements along the 0 axis:\", rank_4_tensor.shape[0])\n",
    "print(\"Elements along the last axis: \", rank_4_tensor.shape[-1])\n",
    "print(\"Total number of elements in our tensor: \", tf.size(rank_4_tensor))"
   ]
  },
  {
   "cell_type": "code",
   "execution_count": 90,
   "metadata": {},
   "outputs": [
    {
     "name": "stdout",
     "output_type": "stream",
     "text": [
      "Datatype of every element: <dtype: 'float32'>\n",
      "Number of dimensions (rank):  4\n",
      "Shape of a tensor:  (2, 3, 4, 5)\n",
      "Elements along the 0 axis: 2\n",
      "Elements along the last axis:  5\n",
      "Total number of elements in our tensor:  tf.Tensor(120, shape=(), dtype=int32)\n",
      "Total number of elements in our tensor:  120\n"
     ]
    }
   ],
   "source": [
    "# Get various attributes of our tensor\n",
    "# Notice the final statement converted to NumPy\n",
    "\n",
    "print(\"Datatype of every element:\", rank_4_tensor.dtype)\n",
    "print(\"Number of dimensions (rank): \", rank_4_tensor.ndim)\n",
    "print(\"Shape of a tensor: \", rank_4_tensor.shape)\n",
    "# print(\"Elements along the 0 axis: \", rank_4_tensor[0].shape)  # wrong\n",
    "print(\"Elements along the 0 axis:\", rank_4_tensor.shape[0])\n",
    "print(\"Elements along the last axis: \", rank_4_tensor.shape[-1])\n",
    "print(\"Total number of elements in our tensor: \", tf.size(rank_4_tensor))\n",
    "print(\"Total number of elements in our tensor: \", tf.size(rank_4_tensor).numpy())"
   ]
  },
  {
   "cell_type": "markdown",
   "metadata": {},
   "source": [
    "---\n",
    "### Indexing tensors\n",
    "\n",
    "#### Tensors can be indexed just like Python lists."
   ]
  },
  {
   "cell_type": "code",
   "execution_count": 92,
   "metadata": {},
   "outputs": [
    {
     "data": {
      "text/plain": [
       "<tf.Tensor: shape=(2, 3, 4, 5), dtype=int32, numpy=\n",
       "array([[[[  0,   1,   2,   3,   4],\n",
       "         [  5,   6,   7,   8,   9],\n",
       "         [ 10,  11,  12,  13,  14],\n",
       "         [ 15,  16,  17,  18,  19]],\n",
       "\n",
       "        [[ 20,  21,  22,  23,  24],\n",
       "         [ 25,  26,  27,  28,  29],\n",
       "         [ 30,  31,  32,  33,  34],\n",
       "         [ 35,  36,  37,  38,  39]],\n",
       "\n",
       "        [[ 40,  41,  42,  43,  44],\n",
       "         [ 45,  46,  47,  48,  49],\n",
       "         [ 50,  51,  52,  53,  54],\n",
       "         [ 55,  56,  57,  58,  59]]],\n",
       "\n",
       "\n",
       "       [[[ 60,  61,  62,  63,  64],\n",
       "         [ 65,  66,  67,  68,  69],\n",
       "         [ 70,  71,  72,  73,  74],\n",
       "         [ 75,  76,  77,  78,  79]],\n",
       "\n",
       "        [[ 80,  81,  82,  83,  84],\n",
       "         [ 85,  86,  87,  88,  89],\n",
       "         [ 90,  91,  92,  93,  94],\n",
       "         [ 95,  96,  97,  98,  99]],\n",
       "\n",
       "        [[100, 101, 102, 103, 104],\n",
       "         [105, 106, 107, 108, 109],\n",
       "         [110, 111, 112, 113, 114],\n",
       "         [115, 116, 117, 118, 119]]]], dtype=int32)>"
      ]
     },
     "execution_count": 92,
     "metadata": {},
     "output_type": "execute_result"
    }
   ],
   "source": [
    "# aaron's reshaping the original matrix\n",
    "\n",
    "rank_4_tensor = tf.reshape(tf.range(120), shape=(2, 3, 4, 5))\n",
    "rank_4_tensor"
   ]
  },
  {
   "cell_type": "code",
   "execution_count": 93,
   "metadata": {},
   "outputs": [
    {
     "data": {
      "text/plain": [
       "<tf.Tensor: shape=(2, 2, 2, 2), dtype=int32, numpy=\n",
       "array([[[[ 0,  1],\n",
       "         [ 5,  6]],\n",
       "\n",
       "        [[20, 21],\n",
       "         [25, 26]]],\n",
       "\n",
       "\n",
       "       [[[60, 61],\n",
       "         [65, 66]],\n",
       "\n",
       "        [[80, 81],\n",
       "         [85, 86]]]], dtype=int32)>"
      ]
     },
     "execution_count": 93,
     "metadata": {},
     "output_type": "execute_result"
    }
   ],
   "source": [
    "# Get the first 2 elements of each dimensions\n",
    "rank_4_tensor[:2, :2, :2, :2]"
   ]
  },
  {
   "cell_type": "code",
   "execution_count": 95,
   "metadata": {},
   "outputs": [
    {
     "name": "stdout",
     "output_type": "stream",
     "text": [
      "tf.Tensor([[[[0 1 2 3 4]]]], shape=(1, 1, 1, 5), dtype=int32)\n"
     ]
    }
   ],
   "source": [
    "# Get the first element from each dimension from each index\n",
    "#   excpet for the final one\n",
    "\n",
    "print(rank_4_tensor[:1, :1, :1])"
   ]
  },
  {
   "cell_type": "code",
   "execution_count": 96,
   "metadata": {},
   "outputs": [
    {
     "data": {
      "text/plain": [
       "TensorShape([2, 3, 4, 5])"
      ]
     },
     "execution_count": 96,
     "metadata": {},
     "output_type": "execute_result"
    }
   ],
   "source": [
    "rank_4_tensor.shape"
   ]
  },
  {
   "cell_type": "code",
   "execution_count": 97,
   "metadata": {},
   "outputs": [
    {
     "data": {
      "text/plain": [
       "<tf.Tensor: shape=(1, 1, 4, 1), dtype=int32, numpy=\n",
       "array([[[[ 0],\n",
       "         [ 5],\n",
       "         [10],\n",
       "         [15]]]], dtype=int32)>"
      ]
     },
     "execution_count": 97,
     "metadata": {},
     "output_type": "execute_result"
    }
   ],
   "source": [
    "rank_4_tensor[:1, :1, :, :1]"
   ]
  },
  {
   "cell_type": "code",
   "execution_count": 98,
   "metadata": {},
   "outputs": [
    {
     "data": {
      "text/plain": [
       "<tf.Tensor: shape=(1, 3, 1, 1), dtype=int32, numpy=\n",
       "array([[[[ 0]],\n",
       "\n",
       "        [[20]],\n",
       "\n",
       "        [[40]]]], dtype=int32)>"
      ]
     },
     "execution_count": 98,
     "metadata": {},
     "output_type": "execute_result"
    }
   ],
   "source": [
    "rank_4_tensor[:1, :, :1, :1]"
   ]
  },
  {
   "cell_type": "code",
   "execution_count": 99,
   "metadata": {},
   "outputs": [
    {
     "data": {
      "text/plain": [
       "<tf.Tensor: shape=(2, 1, 1, 1), dtype=int32, numpy=\n",
       "array([[[[ 0]]],\n",
       "\n",
       "\n",
       "       [[[60]]]], dtype=int32)>"
      ]
     },
     "execution_count": 99,
     "metadata": {},
     "output_type": "execute_result"
    }
   ],
   "source": [
    "rank_4_tensor[:, :1, :1, :1]"
   ]
  },
  {
   "cell_type": "code",
   "execution_count": 101,
   "metadata": {},
   "outputs": [
    {
     "data": {
      "text/plain": [
       "<tf.Tensor: shape=(4, 6), dtype=int32, numpy=\n",
       "array([[ 0,  1,  2,  3,  4,  5],\n",
       "       [ 6,  7,  8,  9, 10, 11],\n",
       "       [12, 13, 14, 15, 16, 17],\n",
       "       [18, 19, 20, 21, 22, 23]], dtype=int32)>"
      ]
     },
     "execution_count": 101,
     "metadata": {},
     "output_type": "execute_result"
    }
   ],
   "source": [
    "# Create a rank 2 tensor (2 dimensions)\n",
    "\n",
    "rank_2_tensor = tf.reshape(tf.range(24), shape=(4, 6))\n",
    "rank_2_tensor"
   ]
  },
  {
   "cell_type": "code",
   "execution_count": 102,
   "metadata": {},
   "outputs": [
    {
     "data": {
      "text/plain": [
       "(TensorShape([4, 6]), 2)"
      ]
     },
     "execution_count": 102,
     "metadata": {},
     "output_type": "execute_result"
    }
   ],
   "source": [
    "rank_2_tensor.shape, rank_2_tensor.ndim"
   ]
  },
  {
   "cell_type": "code",
   "execution_count": null,
   "metadata": {},
   "outputs": [
    {
     "data": {
      "text/plain": [
       "<tf.Tensor: shape=(), dtype=int32, numpy=23>"
      ]
     },
     "execution_count": 103,
     "metadata": {},
     "output_type": "execute_result"
    }
   ],
   "source": [
    "# Get the last item of each row of our rank 2 tensor\n",
    "\n",
    "rank_2_tensor[-1, -1]  # wrong answer"
   ]
  },
  {
   "cell_type": "code",
   "execution_count": null,
   "metadata": {},
   "outputs": [
    {
     "data": {
      "text/plain": [
       "<tf.Tensor: shape=(1, 1), dtype=int32, numpy=array([[23]], dtype=int32)>"
      ]
     },
     "execution_count": 104,
     "metadata": {},
     "output_type": "execute_result"
    }
   ],
   "source": [
    "# Get the last item of each row of our rank 2 tensor\n",
    "\n",
    "rank_2_tensor[-1:, -1:]  # wrong answer"
   ]
  },
  {
   "cell_type": "code",
   "execution_count": null,
   "metadata": {},
   "outputs": [
    {
     "data": {
      "text/plain": [
       "<tf.Tensor: shape=(4,), dtype=int32, numpy=array([ 5, 11, 17, 23], dtype=int32)>"
      ]
     },
     "execution_count": 106,
     "metadata": {},
     "output_type": "execute_result"
    }
   ],
   "source": [
    "# Get the last item of each row of our rank 2 tensor\n",
    " \n",
    "rank_2_tensor[:, -1]  "
   ]
  },
  {
   "cell_type": "code",
   "execution_count": 107,
   "metadata": {},
   "outputs": [
    {
     "ename": "TypeError",
     "evalue": "'tensorflow.python.framework.ops.EagerTensor' object is not callable",
     "output_type": "error",
     "traceback": [
      "\u001b[31m---------------------------------------------------------------------------\u001b[39m",
      "\u001b[31mTypeError\u001b[39m                                 Traceback (most recent call last)",
      "\u001b[36mCell\u001b[39m\u001b[36m \u001b[39m\u001b[32mIn[107]\u001b[39m\u001b[32m, line 1\u001b[39m\n\u001b[32m----> \u001b[39m\u001b[32m1\u001b[39m \u001b[43mrank_2_tensor\u001b[49m\u001b[43m(\u001b[49m\u001b[43maxis\u001b[49m\u001b[43m=\u001b[49m\u001b[32;43m1\u001b[39;49m\u001b[43m)\u001b[49m\n",
      "\u001b[31mTypeError\u001b[39m: 'tensorflow.python.framework.ops.EagerTensor' object is not callable"
     ]
    }
   ],
   "source": [
    "rank_2_tensor(axis=1)"
   ]
  },
  {
   "cell_type": "code",
   "execution_count": 113,
   "metadata": {},
   "outputs": [
    {
     "name": "stdout",
     "output_type": "stream",
     "text": [
      "tf.Tensor(\n",
      "[[ 0  1  2  3  4  5]\n",
      " [ 6  7  8  9 10 11]\n",
      " [12 13 14 15 16 17]\n",
      " [18 19 20 21 22 23]], shape=(4, 6), dtype=int32)\n",
      "tf.Tensor(\n",
      "[[0]\n",
      " [0]\n",
      " [0]\n",
      " [0]], shape=(4, 1), dtype=int32)\n"
     ]
    },
    {
     "data": {
      "text/plain": [
       "<tf.Tensor: shape=(4,), dtype=int32, numpy=array([0, 0, 0, 0], dtype=int32)>"
      ]
     },
     "execution_count": 113,
     "metadata": {},
     "output_type": "execute_result"
    }
   ],
   "source": [
    "# Using `tf.gather` with `axis=1`, but wrong because tensor does not support -1 index\n",
    "rank_2_tensor = tf.reshape(tf.range(24), shape=(4, 6))\n",
    "print(rank_2_tensor)\n",
    "\n",
    "last_items_of_each_row = tf.gather(rank_2_tensor, indices=[-1], axis=1)\n",
    "print(last_items_of_each_row)\n",
    "tf.squeeze(last_items_of_each_row)"
   ]
  },
  {
   "cell_type": "code",
   "execution_count": 114,
   "metadata": {},
   "outputs": [
    {
     "name": "stdout",
     "output_type": "stream",
     "text": [
      "tf.Tensor(\n",
      "[[ 0  1  2  3  4  5]\n",
      " [ 6  7  8  9 10 11]\n",
      " [12 13 14 15 16 17]\n",
      " [18 19 20 21 22 23]], shape=(4, 6), dtype=int32)\n",
      "tf.Tensor(\n",
      "[[ 5]\n",
      " [11]\n",
      " [17]\n",
      " [23]], shape=(4, 1), dtype=int32)\n"
     ]
    },
    {
     "data": {
      "text/plain": [
       "<tf.Tensor: shape=(4,), dtype=int32, numpy=array([ 5, 11, 17, 23], dtype=int32)>"
      ]
     },
     "execution_count": 114,
     "metadata": {},
     "output_type": "execute_result"
    }
   ],
   "source": [
    "# You'll need to calculate the last index, but not using -1\n",
    "\n",
    "# Using `tf.gather` with `axis=1`, but wrong because tensor does not support -1 index\n",
    "rank_2_tensor = tf.reshape(tf.range(24), shape=(4, 6))\n",
    "print(rank_2_tensor)\n",
    "\n",
    "last_items_of_each_row = tf.gather(rank_2_tensor, indices=[6-1], axis=1)\n",
    "print(last_items_of_each_row)\n",
    "tf.squeeze(last_items_of_each_row)"
   ]
  },
  {
   "cell_type": "markdown",
   "metadata": {},
   "source": [
    "**TL;DR** for `tf.gather()` and `tf.squeeze()`:\n",
    "\n",
    "---\n",
    "\n",
    "## 🔹 `tf.gather()`\n",
    "\n",
    "| Purpose                    | Grabs slices along an axis (like selecting rows or columns)        |\n",
    "|----------------------------|---------------------------------------------------------------------|\n",
    "| Common use                 | Select specific rows/columns (e.g., `axis=0` for rows, `axis=1` for columns) |\n",
    "| Negative indices support?  | ❌ No — unlike NumPy, `-1` does **not** mean \"last\"                 |\n",
    "| Fix for last index         | Use `tf.shape(tensor)[axis] - 1` instead of `-1`                   |\n",
    "| Example                    | `tf.gather(tensor, indices=[2], axis=1)` → gets column 2 from all rows |\n",
    "\n",
    "---\n",
    "\n",
    "## 🔹 `tf.squeeze()`\n",
    "\n",
    "| Purpose                    | Removes dimensions with size 1 (e.g., shape `[4, 1]` → `[4]`)        |\n",
    "|----------------------------|-----------------------------------------------------------------------|\n",
    "| When to use it             | After slicing/gathering when you want to flatten out unnecessary dims |\n",
    "| Example                    | `tf.squeeze(tf.constant([[1], [2], [3]]))` → `[1, 2, 3]`             |\n",
    "| Optional axis              | You can specify `axis` if you only want to squeeze specific dimensions |\n",
    "\n",
    "---\n",
    "\n",
    "### ✅ Example combo:\n",
    "\n",
    "```python\n",
    "last_col_index = tf.shape(tensor)[1] - 1\n",
    "last_column = tf.gather(tensor, indices=[last_col_index], axis=1)\n",
    "last_column = tf.squeeze(last_column)\n",
    "```\n",
    "\n",
    "---\n"
   ]
  },
  {
   "cell_type": "code",
   "execution_count": 115,
   "metadata": {},
   "outputs": [
    {
     "data": {
      "text/plain": [
       "<tf.Tensor: shape=(4, 6, 1), dtype=int32, numpy=\n",
       "array([[[ 0],\n",
       "        [ 1],\n",
       "        [ 2],\n",
       "        [ 3],\n",
       "        [ 4],\n",
       "        [ 5]],\n",
       "\n",
       "       [[ 6],\n",
       "        [ 7],\n",
       "        [ 8],\n",
       "        [ 9],\n",
       "        [10],\n",
       "        [11]],\n",
       "\n",
       "       [[12],\n",
       "        [13],\n",
       "        [14],\n",
       "        [15],\n",
       "        [16],\n",
       "        [17]],\n",
       "\n",
       "       [[18],\n",
       "        [19],\n",
       "        [20],\n",
       "        [21],\n",
       "        [22],\n",
       "        [23]]], dtype=int32)>"
      ]
     },
     "execution_count": 115,
     "metadata": {},
     "output_type": "execute_result"
    }
   ],
   "source": [
    "# Add in extra dimension to our rank 2 tensor\n",
    "\n",
    "rank_3_tensor = rank_2_tensor[..., tf.newaxis]\n",
    "rank_3_tensor"
   ]
  },
  {
   "cell_type": "markdown",
   "metadata": {},
   "source": [
    "**TL;DR for `[..., tf.newaxis]`** 👇\n",
    "\n",
    "---\n",
    "\n",
    "## 🔹 `[..., tf.newaxis]`\n",
    "\n",
    "| Purpose                          | Adds a **new dimension** (axis of size 1) at the end of the tensor |\n",
    "|----------------------------------|---------------------------------------------------------------------|\n",
    "| Equivalent to                    | `tf.expand_dims(tensor, axis=-1)`                                  |\n",
    "| Useful for                       | - Adding channel dimensions (e.g., grayscale images)                |\n",
    "|                                  | - Preparing shape for broadcasting or model input                   |\n",
    "| Shape change                     | From `[a, b]` → `[a, b, 1]`                                         |\n",
    "| Can also insert in other axes   | Yes! Use slicing like `tensor[:, tf.newaxis, :]` to insert at axis 1 |\n",
    "\n",
    "---\n",
    "\n",
    "## ✅ Example:\n",
    "\n",
    "```python\n",
    "x = tf.constant([1, 2, 3])        # shape: (3,)\n",
    "x_expanded = x[..., tf.newaxis]   # shape: (3, 1)\n",
    "```\n",
    "\n",
    "---\n",
    "\n",
    "### 🧠 Bonus: Why use `...`?\n",
    "\n",
    "- `...` is a shortcut for \"all previous dimensions\"\n",
    "- So `[..., tf.newaxis]` means: \"add a new axis at the very end\"\n",
    "\n",
    "---\n"
   ]
  },
  {
   "cell_type": "code",
   "execution_count": 116,
   "metadata": {},
   "outputs": [
    {
     "data": {
      "text/plain": [
       "<tf.Tensor: shape=(4, 6, 1), dtype=int32, numpy=\n",
       "array([[[ 0],\n",
       "        [ 1],\n",
       "        [ 2],\n",
       "        [ 3],\n",
       "        [ 4],\n",
       "        [ 5]],\n",
       "\n",
       "       [[ 6],\n",
       "        [ 7],\n",
       "        [ 8],\n",
       "        [ 9],\n",
       "        [10],\n",
       "        [11]],\n",
       "\n",
       "       [[12],\n",
       "        [13],\n",
       "        [14],\n",
       "        [15],\n",
       "        [16],\n",
       "        [17]],\n",
       "\n",
       "       [[18],\n",
       "        [19],\n",
       "        [20],\n",
       "        [21],\n",
       "        [22],\n",
       "        [23]]], dtype=int32)>"
      ]
     },
     "execution_count": 116,
     "metadata": {},
     "output_type": "execute_result"
    }
   ],
   "source": [
    "# Alternative to tf.newaxis\n",
    "tf.expand_dims(rank_2_tensor, axis=-1) # -1 means expand final axis\n"
   ]
  },
  {
   "cell_type": "code",
   "execution_count": null,
   "metadata": {},
   "outputs": [
    {
     "data": {
      "text/plain": [
       "<tf.Tensor: shape=(1, 4, 6), dtype=int32, numpy=\n",
       "array([[[ 0,  1,  2,  3,  4,  5],\n",
       "        [ 6,  7,  8,  9, 10, 11],\n",
       "        [12, 13, 14, 15, 16, 17],\n",
       "        [18, 19, 20, 21, 22, 23]]], dtype=int32)>"
      ]
     },
     "execution_count": 117,
     "metadata": {},
     "output_type": "execute_result"
    }
   ],
   "source": [
    "tf.expand_dims(rank_2_tensor, axis=0)  # expand the 0-axis"
   ]
  },
  {
   "cell_type": "code",
   "execution_count": null,
   "metadata": {},
   "outputs": [],
   "source": []
  }
 ],
 "metadata": {
  "kernelspec": {
   "display_name": "tf-dev",
   "language": "python",
   "name": "tf-dev"
  },
  "language_info": {
   "codemirror_mode": {
    "name": "ipython",
    "version": 3
   },
   "file_extension": ".py",
   "mimetype": "text/x-python",
   "name": "python",
   "nbconvert_exporter": "python",
   "pygments_lexer": "ipython3",
   "version": "3.11.11"
  }
 },
 "nbformat": 4,
 "nbformat_minor": 2
}
